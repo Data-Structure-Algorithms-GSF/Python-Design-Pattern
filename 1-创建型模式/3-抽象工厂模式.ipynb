{
 "cells": [
  {
   "attachments": {},
   "cell_type": "markdown",
   "metadata": {},
   "source": [
    "# 描述\n",
    "定义一个工厂类接口，让工厂子类来创建一系列相关或相互依赖的对象\n",
    "\n",
    "# 角色\n",
    "1. 抽象产品角色\n",
    "2. 具体产品角色\n",
    "3. 抽象工厂角色\n",
    "4. 具体工厂角色\n",
    "5. 客户端\n",
    "\n",
    "# 实例："
   ]
  },
  {
   "cell_type": "code",
   "execution_count": null,
   "metadata": {},
   "outputs": [],
   "source": [
    "from abc import ABCMeta, abstractmethod\n",
    "\n",
    "# 抽象产品角色\n",
    "class PhoneShell(metaclass=ABCMeta):\n",
    "    @abstractmethod\n",
    "    def show_shell(self):\n",
    "        pass\n",
    "\n",
    "class PhoneCPU(metaclass=ABCMeta):\n",
    "    @abstractmethod\n",
    "    def show_cpu(self):\n",
    "        pass\n",
    "\n",
    "class PhoneOS(metaclass=ABCMeta):\n",
    "    @abstractmethod\n",
    "    def show_os(self):\n",
    "        pass"
   ]
  },
  {
   "cell_type": "code",
   "execution_count": null,
   "metadata": {},
   "outputs": [],
   "source": [
    "# 具体产品角色\n",
    "class SmallShell(PhoneShell):\n",
    "    def show_shell(self):\n",
    "        print('普通手机小手机壳')\n",
    "\n",
    "class BigShell(PhoneShell):\n",
    "    def show_shell(self):\n",
    "        print('普通手机大手机壳')\n",
    "\n",
    "class AppleShell(PhoneShell):\n",
    "    def show_shell(self):\n",
    "        print('苹果手机壳')\n",
    "\n",
    "class SnapDragonCPU(PhoneCPU):\n",
    "    def show_cpu(self):\n",
    "        print('骁龙CPU')\n",
    "\n",
    "class HuaweiCPU(PhoneCPU):\n",
    "    def show_cpu(self):\n",
    "        print('化为CPU')\n",
    "\n",
    "class AppleCPU(PhoneCPU):\n",
    "    def show_cpu(self):\n",
    "        print('苹果CPU')\n",
    "\n",
    "class AndroidOS(PhoneOS):\n",
    "    def show_os(self):\n",
    "        print('IOS系统')\n",
    "\n",
    "class AppleOS(PhoneOS):\n",
    "    def show_os(self):\n",
    "        print('安卓系统')"
   ]
  },
  {
   "cell_type": "code",
   "execution_count": null,
   "metadata": {},
   "outputs": [],
   "source": [
    "# 抽象工厂角色\n",
    "class PhoneFactory(metaclass=ABCMeta):\n",
    "    @abstractmethod\n",
    "    def make_shell(self):\n",
    "        pass\n",
    "\n",
    "    @abstractmethod\n",
    "    def make_cpu(self):\n",
    "        pass\n",
    "\n",
    "    @abstractmethod\n",
    "    def make_os(self):\n",
    "        pass"
   ]
  },
  {
   "cell_type": "code",
   "execution_count": null,
   "metadata": {},
   "outputs": [],
   "source": [
    "# 具体工厂角色\n",
    "class HuaweiFactory(PhoneFactory):\n",
    "    def make_shell(self):\n",
    "        return SmallShell()\n",
    "\n",
    "    def make_cpu(self):\n",
    "        return HuaweiCPU()\n",
    "\n",
    "    def make_os(self):\n",
    "        return AndroidOS()\n",
    "\n",
    "# 对具体工厂的实现加以限制,避免随意使用:苹果手机只能用苹果的CPU\n",
    "class AppleFactory(PhoneFactory):\n",
    "    def make_shell(self):\n",
    "        return AppleShell()\n",
    "\n",
    "    def make_cpu(self):\n",
    "        return AppleCPU()\n",
    "\n",
    "    def make_os(self):\n",
    "        return AppleOS()"
   ]
  },
  {
   "cell_type": "code",
   "execution_count": null,
   "metadata": {},
   "outputs": [],
   "source": [
    "# 客户端\n",
    "class Phone:\n",
    "    def __init__(self, shell, cpu, os):\n",
    "        self.shell = shell\n",
    "        self.cpu = cpu\n",
    "        self.os = os\n",
    "\n",
    "    def show_info(self):\n",
    "        print('手机信息：')\n",
    "        self.shell.show_shell()\n",
    "        self.cpu.show_cpu()\n",
    "        self.os.show_os()\n",
    "\n",
    "\n",
    "def make_phone(factory):\n",
    "    shell = factory.make_shell()\n",
    "    cpu = factory.make_cpu()\n",
    "    os = factory.make_os()\n",
    "    return Phone(shell, cpu, os)"
   ]
  },
  {
   "cell_type": "code",
   "execution_count": null,
   "metadata": {},
   "outputs": [],
   "source": [
    "# 用户端调用\n",
    "p = make_phone(HuaweiFactory())\n",
    "p.show_info()"
   ]
  },
  {
   "attachments": {},
   "cell_type": "markdown",
   "metadata": {},
   "source": [
    "# 优点\n",
    "1. 客户端与类的具体实现相分离\n",
    "2. 每个工厂都能创建一个完整的产品系列\n",
    "3. 产品之间存在约束关系：有利于产品的一致性\n",
    "\n",
    "# 缺点\n",
    "1. 难以支持新种类的（抽象）产品：例如要增加内存版本的生产信息，则所有的工厂都需要修改"
   ]
  }
 ],
 "metadata": {
  "kernelspec": {
   "display_name": "base",
   "language": "python",
   "name": "python3"
  },
  "language_info": {
   "codemirror_mode": {
    "name": "ipython",
    "version": 3
   },
   "file_extension": ".py",
   "mimetype": "text/x-python",
   "name": "python",
   "nbconvert_exporter": "python",
   "pygments_lexer": "ipython3",
   "version": "3.8.8"
  },
  "orig_nbformat": 4,
  "vscode": {
   "interpreter": {
    "hash": "608941083e8b91d1db0c21a8f194580bc482385e10e0f0b50fa162534608c5ce"
   }
  }
 },
 "nbformat": 4,
 "nbformat_minor": 2
}

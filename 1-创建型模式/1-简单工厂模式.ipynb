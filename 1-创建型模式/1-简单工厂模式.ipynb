{
 "cells": [
  {
   "attachments": {},
   "cell_type": "markdown",
   "metadata": {},
   "source": [
    "# 描述\n",
    "简单工厂模式不是23中设计模式中的。\n",
    "简单工厂模式不直接向客户端暴露对象创建的细节，而是通过一个工厂类来负责创建产品类的实例\n",
    "\n",
    "# 角色\n",
    "1. 抽象产品角色（Product）\n",
    "2. 具体产品角色（Concept Product）\n",
    "3. 工厂角色（Creator）\n",
    "\n",
    "# 实例："
   ]
  },
  {
   "cell_type": "code",
   "execution_count": null,
   "metadata": {},
   "outputs": [],
   "source": [
    "from abc import ABCMeta, abstractmethod\n",
    "\n",
    "# 抽象产品角色：给具体产品角色提供统一的接口规范\n",
    "class Payment(metaclass=ABCMeta):\n",
    "    @abstractmethod\n",
    "    def pay(self, money):\n",
    "        pass"
   ]
  },
  {
   "cell_type": "code",
   "execution_count": null,
   "metadata": {},
   "outputs": [],
   "source": [
    "# 具体产品角色\n",
    "class Alipay(Payment):\n",
    "    def __init__(self, use_huabei=False):\n",
    "        self.use_huabei = use_huabei\n",
    "\n",
    "    def pay(self, money):\n",
    "        if self.use_huabei == True:\n",
    "            print(\"花呗支付了{0}元!\".format(money))\n",
    "        else:\n",
    "            print(\"支付宝余额支付了{0}元!\".format(money))\n",
    "\n",
    "\n",
    "class WechatPay(Payment):\n",
    "    def pay(self, money):\n",
    "        print(\"微信支付了%d元!\" % (money))"
   ]
  },
  {
   "cell_type": "code",
   "execution_count": null,
   "metadata": {},
   "outputs": [],
   "source": [
    "# 工厂类角色\n",
    "class PaymentFactory:\n",
    "    def create_payment(self, method):\n",
    "        if method == 'Alipay':\n",
    "            return Alipay()\n",
    "        elif method == 'WechatPay':\n",
    "            return WechatPay()\n",
    "        elif method == 'HuabeiPay':\n",
    "            return Alipay(use_huabei=True)\n",
    "        else:\n",
    "            raise TypeError('No such payment named %s' % method)"
   ]
  },
  {
   "cell_type": "code",
   "execution_count": null,
   "metadata": {},
   "outputs": [],
   "source": [
    "# 客户端调用：不直接向客户端暴露对象创建的实现细节，而是通过一个工厂类来负责创建产品类的实例\n",
    "\n",
    "pf = PaymentFactory()\n",
    "p = pf.create_payment('HuabeiPay')\n",
    "p.pay(100)\n",
    "\n",
    "l = pf.create_payment('WechatPay')\n",
    "l.pay(500)"
   ]
  },
  {
   "attachments": {},
   "cell_type": "markdown",
   "metadata": {},
   "source": [
    "# 优点\n",
    "1. 隐藏了对象（具体产品角色）创建的细节\n",
    "2. 面对新的具体产品对象，客户端不需要修改代码，仅在参数传递上有所改动\n",
    "\n",
    "# 缺点\n",
    "1. 违反了单一职责原则：工厂类对象中包含了多种具体产品角色的选择逻辑\n",
    "2. 违反了开放封闭原则：当新增具体产品角色时，需要对工厂类对象进行修改"
   ]
  }
 ],
 "metadata": {
  "kernelspec": {
   "display_name": "base",
   "language": "python",
   "name": "python3"
  },
  "language_info": {
   "codemirror_mode": {
    "name": "ipython",
    "version": 3
   },
   "file_extension": ".py",
   "mimetype": "text/x-python",
   "name": "python",
   "nbconvert_exporter": "python",
   "pygments_lexer": "ipython3",
   "version": "3.8.8"
  },
  "orig_nbformat": 4,
  "vscode": {
   "interpreter": {
    "hash": "608941083e8b91d1db0c21a8f194580bc482385e10e0f0b50fa162534608c5ce"
   }
  }
 },
 "nbformat": 4,
 "nbformat_minor": 2
}

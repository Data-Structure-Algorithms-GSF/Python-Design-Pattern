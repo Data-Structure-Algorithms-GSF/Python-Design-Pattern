{
 "cells": [
  {
   "attachments": {},
   "cell_type": "markdown",
   "metadata": {},
   "source": [
    "# 描述\n",
    "将一个复杂对象的构建与他的表示分离，使得同样的构建过程可以创建不同的表示\n",
    "\n",
    "# 角色\n",
    "1. 产品\n",
    "2. 抽象建造者\n",
    "3. 具体建造者\n",
    "4. 指挥者\n",
    "\n",
    "# 实例："
   ]
  },
  {
   "cell_type": "code",
   "execution_count": 1,
   "metadata": {},
   "outputs": [],
   "source": [
    "from abc import ABCMeta, abstractmethod\n",
    "\n",
    "# 产品\n",
    "class Player:\n",
    "    def __init__(self, face=None, body=None, arms=None, legs=None):\n",
    "        self.face = face\n",
    "        self.body = body\n",
    "        self.arms = arms\n",
    "        self.legs = legs\n",
    "\n",
    "    def __str__(self):\n",
    "        return '%s,%s,%s,%s' % (self.face, self.body, self.arms, self.legs)\n"
   ]
  },
  {
   "cell_type": "code",
   "execution_count": 2,
   "metadata": {},
   "outputs": [],
   "source": [
    "# 抽象建造者\n",
    "class PlayerBuilder(metaclass=ABCMeta):\n",
    "    @abstractmethod\n",
    "    def build_face(self):\n",
    "        pass\n",
    "\n",
    "    @abstractmethod\n",
    "    def build_body(self):\n",
    "        pass\n",
    "\n",
    "    @abstractmethod\n",
    "    def build_arms(self):\n",
    "        pass\n",
    "\n",
    "    @abstractmethod\n",
    "    def build_legs(self):\n",
    "        pass"
   ]
  },
  {
   "cell_type": "code",
   "execution_count": 3,
   "metadata": {},
   "outputs": [],
   "source": [
    "# 具体建造者,隐藏了一个产品的内部结构\n",
    "class GirlBuilder(PlayerBuilder):\n",
    "    def __init__(self):\n",
    "        self.player = Player()\n",
    "\n",
    "    def build_face(self):\n",
    "        self.player.face = '漂亮的脸蛋'\n",
    "\n",
    "    def build_body(self):\n",
    "        self.player.body = '苗条的身材'\n",
    "\n",
    "    def build_arms(self):\n",
    "        self.player.arms = '细细的胳膊'\n",
    "\n",
    "    def build_legs(self):\n",
    "        self.player.legs = '大长腿'\n",
    "\n",
    "\n",
    "class MonsterBuilder(PlayerBuilder):\n",
    "    def __init__(self):\n",
    "        self.player = Player()\n",
    "\n",
    "    def build_face(self):\n",
    "        self.player.face = '绿脸'\n",
    "\n",
    "    def build_body(self):\n",
    "        self.player.body = '魁梧的身体'\n",
    "\n",
    "    def build_arms(self):\n",
    "        self.player.arms = '粗壮的胳膊'\n",
    "\n",
    "    def build_legs(self):\n",
    "        self.player.legs = '粗壮的大腿'"
   ]
  },
  {
   "cell_type": "code",
   "execution_count": 4,
   "metadata": {},
   "outputs": [],
   "source": [
    "# 指挥者，构造代码(构造代码和表示代码分开)，可以对构造过程进行更加精细地控制\n",
    "class PlayerDirectory():\n",
    "    def builder_player(self, builder):\n",
    "        \"\"\"\n",
    "        隐藏了装配过程\n",
    "        :param builder:\n",
    "        :return:\n",
    "        \"\"\"\n",
    "        builder.build_face()\n",
    "        builder.build_body()\n",
    "        builder.build_arms()\n",
    "        builder.build_legs()\n",
    "        return builder.player"
   ]
  },
  {
   "cell_type": "code",
   "execution_count": 5,
   "metadata": {},
   "outputs": [
    {
     "name": "stdout",
     "output_type": "stream",
     "text": [
      "漂亮的脸蛋,苗条的身材,细细的胳膊,大长腿\n"
     ]
    }
   ],
   "source": [
    "# 用户端调用\n",
    "builder = GirlBuilder()\n",
    "director = PlayerDirectory()\n",
    "p = director.builder_player(builder)\n",
    "print(p)"
   ]
  },
  {
   "attachments": {},
   "cell_type": "markdown",
   "metadata": {},
   "source": [
    "# 优点\n",
    "1. 具体建造者之间独立，容易扩展\n",
    "2. 便于控制细节风险\n",
    "\n",
    "# 缺点\n",
    "1. 产品需要有共同点，这些共同点通过不同的组合可以组合出不同的产品\n",
    "2. 如果这些共同点可以组成极多的产品，则会有很多的产品建造者\n",
    "\n",
    "# 抽象工厂模式 VS 建造者模式\n",
    "1. 前者注重整体，后者注重局部\n",
    "   - 前者：每一个具体工厂都能制造一个产品：华为手机工厂、苹果手机工厂、锤子手机工厂\n",
    "   - 后者：产线就一个（指挥者），根据搭配（具体建造者）制造不同的产品：用ardroid、麒麟、小手机壳，就生产华为手机；用ios、M2、大手机壳，就生产苹果手机\n",
    "   \n",
    "# 理解\n",
    "https://zhuanlan.zhihu.com/p/405399335"
   ]
  }
 ],
 "metadata": {
  "kernelspec": {
   "display_name": "base",
   "language": "python",
   "name": "python3"
  },
  "language_info": {
   "codemirror_mode": {
    "name": "ipython",
    "version": 3
   },
   "file_extension": ".py",
   "mimetype": "text/x-python",
   "name": "python",
   "nbconvert_exporter": "python",
   "pygments_lexer": "ipython3",
   "version": "3.8.8"
  },
  "orig_nbformat": 4,
  "vscode": {
   "interpreter": {
    "hash": "608941083e8b91d1db0c21a8f194580bc482385e10e0f0b50fa162534608c5ce"
   }
  }
 },
 "nbformat": 4,
 "nbformat_minor": 2
}

{
 "cells": [
  {
   "attachments": {},
   "cell_type": "markdown",
   "metadata": {},
   "source": [
    "# 描述\n",
    "定义一个用于创建对象的接口（工厂接口），让子类决定实例化哪一个\n",
    "\n",
    "# 角色\n",
    "1. 抽象产品角色\n",
    "2. 具体产品角色\n",
    "3. 抽象工厂角色\n",
    "4. 具体工厂角色 \n",
    "\n",
    "# 实例："
   ]
  },
  {
   "cell_type": "code",
   "execution_count": null,
   "metadata": {},
   "outputs": [],
   "source": [
    "from abc import ABCMeta, abstractmethod\n",
    "\n",
    "# 抽象产品角色\n",
    "class Payment(metaclass=ABCMeta):\n",
    "    @abstractmethod\n",
    "    def pay(self, money):\n",
    "        pass"
   ]
  },
  {
   "cell_type": "code",
   "execution_count": null,
   "metadata": {},
   "outputs": [],
   "source": [
    "# 具体产品角色\n",
    "class Alipay(Payment):\n",
    "    def __init__(self, use_huabei=False):\n",
    "        self.use_huabei = use_huabei\n",
    "\n",
    "    def pay(self, money):\n",
    "        if self.use_huabei == True:\n",
    "            print(\"花呗支付了{0}元!\".format(money))\n",
    "        else:\n",
    "            print(\"支付宝余额支付了{0}元!\".format(money))\n",
    "\n",
    "class WechatPay(Payment):\n",
    "    def pay(self, money):\n",
    "        print(\"微信支付了%d元!\" % (money))"
   ]
  },
  {
   "cell_type": "code",
   "execution_count": null,
   "metadata": {},
   "outputs": [],
   "source": [
    "# 抽象工厂角色\n",
    "class PaymentFactory(metaclass=ABCMeta):\n",
    "    @abstractmethod\n",
    "    def create_payment(self):\n",
    "        pass"
   ]
  },
  {
   "cell_type": "code",
   "execution_count": null,
   "metadata": {},
   "outputs": [],
   "source": [
    "# 具体工厂角色\n",
    "class AlipayFactory(PaymentFactory):\n",
    "    def create_payment(self):\n",
    "        return Alipay()\n",
    "\n",
    "class WechatPayFactory(PaymentFactory):\n",
    "    def create_payment(self):\n",
    "        return Alipay()\n",
    "\n",
    "class HuabeiFactory(PaymentFactory):\n",
    "    def create_payment(self):\n",
    "        return Alipay(use_huabei=True)"
   ]
  },
  {
   "cell_type": "code",
   "execution_count": null,
   "metadata": {},
   "outputs": [],
   "source": [
    "# 客户端调用\n",
    "hfp = HuabeiFactory().create_payment()\n",
    "hfp.pay(100)"
   ]
  },
  {
   "attachments": {},
   "cell_type": "markdown",
   "metadata": {},
   "source": [
    "# 优点\n",
    "1. 每个具体产品一一对应一个具体工厂类，不需要修改具体工厂类代码\n",
    "2. 隐藏具体产品对象创建的实现细节\n",
    "\n",
    "# 缺点\n",
    "1. 每增加一个具体产品类，需要增加一个相应的具体工厂类"
   ]
  }
 ],
 "metadata": {
  "kernelspec": {
   "display_name": "base",
   "language": "python",
   "name": "python3"
  },
  "language_info": {
   "codemirror_mode": {
    "name": "ipython",
    "version": 3
   },
   "file_extension": ".py",
   "mimetype": "text/x-python",
   "name": "python",
   "nbconvert_exporter": "python",
   "pygments_lexer": "ipython3",
   "version": "3.8.8"
  },
  "orig_nbformat": 4,
  "vscode": {
   "interpreter": {
    "hash": "608941083e8b91d1db0c21a8f194580bc482385e10e0f0b50fa162534608c5ce"
   }
  }
 },
 "nbformat": 4,
 "nbformat_minor": 2
}

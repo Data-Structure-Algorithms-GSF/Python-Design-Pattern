{
 "cells": [
  {
   "attachments": {},
   "cell_type": "markdown",
   "metadata": {},
   "source": [
    "# 描述\n",
    "将对象组合成树形结构以表示“部分-整体”地层次结构，使得用户对单个对象和组合对象地使用具有一致性\n",
    "\n",
    "# 角色\n",
    "1. 抽象组件\n",
    "2. 叶子组件\n",
    "3. 复合组件\n",
    "4. 客户端\n",
    "\n",
    "# 举例\n",
    "PPT的形状：方形、圆形、三角形等；可以组合成一个组合对象。无论是单独对象还是几个基本图形的组合对象，都支持剪裁、翻转、复制等一致操作\n",
    "\n",
    "# 实例："
   ]
  },
  {
   "cell_type": "code",
   "execution_count": null,
   "metadata": {},
   "outputs": [],
   "source": [
    "from abc import ABCMeta, abstractmethod\n",
    "\n",
    "# 抽象组件：保证单个对象和组合对象的使用一致性\n",
    "class Graphic(metaclass=ABCMeta):\n",
    "    @abstractmethod\n",
    "    def draw(self):\n",
    "        pass"
   ]
  },
  {
   "cell_type": "code",
   "execution_count": null,
   "metadata": {},
   "outputs": [],
   "source": [
    "# 叶子组件\n",
    "class Point(Graphic):\n",
    "    def __init__(self, x, y):\n",
    "        self.x = x\n",
    "        self.y = y\n",
    "\n",
    "    def __str__(self):\n",
    "        return '点(%s,%s)' % (self.x, self.y)\n",
    "\n",
    "    def draw(self):\n",
    "        print(self)\n",
    "\n",
    "# 叶子组件\n",
    "class Line(Graphic):\n",
    "    def __init__(self, p1, p2):\n",
    "        self.p1 = p1\n",
    "        self.p2 = p2\n",
    "\n",
    "    def __str__(self):\n",
    "        return '线段[(%s,%s)]' % (self.p1, self.p2)\n",
    "\n",
    "    def draw(self):\n",
    "        print(self)"
   ]
  },
  {
   "cell_type": "code",
   "execution_count": null,
   "metadata": {},
   "outputs": [],
   "source": [
    "# 复合组件\n",
    "\n",
    "class Picture(Graphic):\n",
    "    def __init__(self, iterable):\n",
    "        self.children = []\n",
    "        for g in iterable:\n",
    "            self.add(g)\n",
    "\n",
    "    def add(self, graphic):\n",
    "        self.children.append(graphic)\n",
    "\n",
    "    def draw(self):\n",
    "        for g in self.children:\n",
    "            g.draw()"
   ]
  },
  {
   "cell_type": "code",
   "execution_count": null,
   "metadata": {},
   "outputs": [],
   "source": [
    "# 客户端\n",
    "\n",
    "print('------简单图形------')\n",
    "p = Point(1, 2)\n",
    "l1 = Line(Point(1, 2), Point(3, 4))\n",
    "l2 = Line(Point(5, 6), Point(7, 8))\n",
    "print(p)\n",
    "print(l1)\n",
    "print(l2)\n",
    "\n",
    "# 复合图形：用ppt理解就是，对组合形状进行线段加粗，组合形状里面的每一个单独形状，都被加粗了\n",
    "print('------复合图形------')\n",
    "pic = Picture([p, l1, l2])\n",
    "pic.draw()\n",
    "\n",
    "# 套娃\n",
    "print('------复合图形再套娃------')\n",
    "picpic = Picture([pic, p])\n",
    "picpic.draw()"
   ]
  },
  {
   "attachments": {},
   "cell_type": "markdown",
   "metadata": {},
   "source": [
    "# 优点\n",
    "1. 客户端与类的具体实现相分离\n",
    "2. 每个工厂都能创建一个完整的产品系列\n",
    "3. 产品之间存在约束关系：有利于产品的一致性\n",
    "\n",
    "# 缺点\n",
    "1. 难以支持新种类的（抽象）产品：例如要增加内存版本的生产信息，则所有的工厂都需要修改"
   ]
  }
 ],
 "metadata": {
  "kernelspec": {
   "display_name": "base",
   "language": "python",
   "name": "python3"
  },
  "language_info": {
   "codemirror_mode": {
    "name": "ipython",
    "version": 3
   },
   "file_extension": ".py",
   "mimetype": "text/x-python",
   "name": "python",
   "nbconvert_exporter": "python",
   "pygments_lexer": "ipython3",
   "version": "3.8.8"
  },
  "orig_nbformat": 4,
  "vscode": {
   "interpreter": {
    "hash": "608941083e8b91d1db0c21a8f194580bc482385e10e0f0b50fa162534608c5ce"
   }
  }
 },
 "nbformat": 4,
 "nbformat_minor": 2
}

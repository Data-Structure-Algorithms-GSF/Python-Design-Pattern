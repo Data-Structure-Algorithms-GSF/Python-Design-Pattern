{
 "cells": [
  {
   "attachments": {},
   "cell_type": "markdown",
   "metadata": {},
   "source": [
    "# 描述\n",
    "为其他对象提供一种代理以控制对这个对象的访问\n",
    "\n",
    "# 角色\n",
    "1. 抽象实体\n",
    "2. 实体\n",
    "3. 代理\n",
    "\n",
    "# 分类\n",
    "1. 远程代理：Django的ORM框架，代替用户去访问操作数据库\n",
    "2. 虚代理：微信图片，点开前是模糊的，不占用内存的；点击后，要下载，开始占用内存\n",
    "3. 保护代理：普通用户和管理员用户权限不同；普通用户只有读的权限，管理员用户既有读的权限，也有写的权限\n",
    "\n",
    "# 实例："
   ]
  },
  {
   "attachments": {},
   "cell_type": "markdown",
   "metadata": {},
   "source": [
    "## 不使用代理"
   ]
  },
  {
   "cell_type": "code",
   "execution_count": null,
   "metadata": {},
   "outputs": [],
   "source": [
    "from abc import ABCMeta, abstractmethod\n",
    "\n",
    "# 抽象实体\n",
    "class Subject(metaclass=ABCMeta):\n",
    "    @abstractmethod\n",
    "    def get_content(self):\n",
    "        pass\n",
    "\n",
    "    @abstractmethod\n",
    "    def set_content(self, content):\n",
    "        pass"
   ]
  },
  {
   "cell_type": "code",
   "execution_count": null,
   "metadata": {},
   "outputs": [],
   "source": [
    "# 实体\n",
    "\n",
    "class RealSubject(Subject):\n",
    "    def __init__(self, filename):\n",
    "        self.filename = filename\n",
    "        print('读取文件内容！')\n",
    "        with open(self.filename, 'r', encoding='utf-8') as f:\n",
    "            self.content = f.read()\n",
    "\n",
    "    def get_content(self):\n",
    "        return self.content\n",
    "\n",
    "    def set_content(self, content):\n",
    "        with open(self.filename, 'w', encoding='utf-8') as f:\n",
    "            f.write(content)"
   ]
  },
  {
   "cell_type": "code",
   "execution_count": null,
   "metadata": {},
   "outputs": [],
   "source": [
    "subj = RealSubject('test.txt')\n",
    "print(subj.get_content())\n",
    "\n",
    "subj.set_content('我不好不好不好不好不好')"
   ]
  },
  {
   "attachments": {},
   "cell_type": "markdown",
   "metadata": {},
   "source": [
    "## 使用虚拟代理"
   ]
  },
  {
   "cell_type": "code",
   "execution_count": null,
   "metadata": {},
   "outputs": [],
   "source": [
    "from abc import ABCMeta, abstractmethod\n",
    "\n",
    "# 抽象实体\n",
    "class Subject(metaclass=ABCMeta):\n",
    "    @abstractmethod\n",
    "    def get_content(self):\n",
    "        pass\n",
    "\n",
    "    @abstractmethod\n",
    "    def set_content(self, content):\n",
    "        pass"
   ]
  },
  {
   "cell_type": "code",
   "execution_count": null,
   "metadata": {},
   "outputs": [],
   "source": [
    "# 实体\n",
    "\n",
    "class RealSubject(Subject):\n",
    "    def __init__(self, filename):\n",
    "        self.filename = filename\n",
    "        print('读取文件内容！')\n",
    "        with open(self.filename, 'r', encoding='utf-8') as f:\n",
    "            self.content = f.read()\n",
    "\n",
    "    def get_content(self):\n",
    "        return self.content\n",
    "\n",
    "    def set_content(self, content):\n",
    "        with open(self.filename, 'w', encoding='utf-8') as f:\n",
    "            f.write(content)"
   ]
  },
  {
   "cell_type": "code",
   "execution_count": null,
   "metadata": {},
   "outputs": [],
   "source": [
    "# 代理：使用虚拟代理方式\n",
    "\n",
    "class VirtualProxy(Subject):\n",
    "    def __init__(self, filename):\n",
    "        self.filename = filename\n",
    "        self.subj = None\n",
    "\n",
    "    def get_content(self):\n",
    "        if not self.subj:\n",
    "            self.subj = RealSubject(self.filename)\n",
    "        return self.subj.get_content()\n",
    "\n",
    "    def set_content(self, content):\n",
    "        if not self.subj:\n",
    "            self.subj = RealSubject(self.filename)\n",
    "\n",
    "        return self.subj.set_content(content)"
   ]
  },
  {
   "cell_type": "code",
   "execution_count": null,
   "metadata": {},
   "outputs": [],
   "source": [
    "# 客户端\n",
    "\n",
    "subj = VirtualProxy('test.txt')\n",
    "print(subj.get_content())"
   ]
  },
  {
   "attachments": {},
   "cell_type": "markdown",
   "metadata": {},
   "source": [
    "## 保护代理"
   ]
  },
  {
   "cell_type": "code",
   "execution_count": null,
   "metadata": {},
   "outputs": [],
   "source": [
    "from abc import ABCMeta, abstractmethod\n",
    "\n",
    "# 抽象实体\n",
    "class Subject(metaclass=ABCMeta):\n",
    "    @abstractmethod\n",
    "    def get_content(self):\n",
    "        pass\n",
    "\n",
    "    @abstractmethod\n",
    "    def set_content(self, content):\n",
    "        pass"
   ]
  },
  {
   "cell_type": "code",
   "execution_count": null,
   "metadata": {},
   "outputs": [],
   "source": [
    "# 实体\n",
    "\n",
    "class RealSubject(Subject):\n",
    "    def __init__(self, filename):\n",
    "        self.filename = filename\n",
    "        print('读取文件内容！')\n",
    "        with open(self.filename, 'r', encoding='utf-8') as f:\n",
    "            self.content = f.read()\n",
    "\n",
    "    def get_content(self):\n",
    "        return self.content\n",
    "\n",
    "    def set_content(self, content):\n",
    "        with open(self.filename, 'w', encoding='utf-8') as f:\n",
    "            f.write(content)"
   ]
  },
  {
   "cell_type": "code",
   "execution_count": null,
   "metadata": {},
   "outputs": [],
   "source": [
    "# 代理：保护代理模式\n",
    "\n",
    "class ProtectedSubject(Subject):\n",
    "    def __init__(self, filename):\n",
    "        self.subj = RealSubject(filename)\n",
    "\n",
    "    def get_content(self):\n",
    "        return self.subj.get_content()\n",
    "\n",
    "    def set_content(self, content):\n",
    "        raise PermissionError('无写入权限！')"
   ]
  },
  {
   "cell_type": "code",
   "execution_count": null,
   "metadata": {},
   "outputs": [],
   "source": [
    "# 客户端\n",
    "\n",
    "subj = ProtectedSubject('test.txt')\n",
    "print(subj.get_content())\n",
    "subj.set_content('abc')"
   ]
  }
 ],
 "metadata": {
  "kernelspec": {
   "display_name": "base",
   "language": "python",
   "name": "python3"
  },
  "language_info": {
   "codemirror_mode": {
    "name": "ipython",
    "version": 3
   },
   "file_extension": ".py",
   "mimetype": "text/x-python",
   "name": "python",
   "nbconvert_exporter": "python",
   "pygments_lexer": "ipython3",
   "version": "3.8.8"
  },
  "orig_nbformat": 4,
  "vscode": {
   "interpreter": {
    "hash": "608941083e8b91d1db0c21a8f194580bc482385e10e0f0b50fa162534608c5ce"
   }
  }
 },
 "nbformat": 4,
 "nbformat_minor": 2
}

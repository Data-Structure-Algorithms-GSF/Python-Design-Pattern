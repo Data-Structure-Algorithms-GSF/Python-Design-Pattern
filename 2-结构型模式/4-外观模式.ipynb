{
 "cells": [
  {
   "attachments": {},
   "cell_type": "markdown",
   "metadata": {},
   "source": [
    "# 描述\n",
    "为子系统中的一组接口提供一个一致的界面，外观模式定义了一个高层接口，这个接口使得这一子系统更加容易使用\n",
    "\n",
    "# 角色\n",
    "1. 子系统类\n",
    "2. 外观\n",
    "\n",
    "# 实例："
   ]
  },
  {
   "cell_type": "code",
   "execution_count": 1,
   "metadata": {},
   "outputs": [],
   "source": [
    "# 子系统类\n",
    "class CPU:\n",
    "    def run(self):\n",
    "        print('CPU start to run...')\n",
    "\n",
    "    def stop(self):\n",
    "        print('CPU stop to run...')\n",
    "\n",
    "# 子系统类\n",
    "class Disk:\n",
    "    def run(self):\n",
    "        print('Disk start to run...')\n",
    "\n",
    "    def stop(self):\n",
    "        print('Disk stop to run...')\n",
    "\n",
    "# 子系统类\n",
    "class Memory:\n",
    "    def run(self):\n",
    "        print('Memory start to run...')\n",
    "\n",
    "    def stop(self):\n",
    "        print('Memory stop to run...')"
   ]
  },
  {
   "cell_type": "code",
   "execution_count": 2,
   "metadata": {},
   "outputs": [],
   "source": [
    "# 外观\n",
    "class Computer():\n",
    "    def __init__(self):\n",
    "        self.CPU = CPU()\n",
    "        self.Disc = Disk()\n",
    "        self.Member = Memory()\n",
    "\n",
    "    def run(self):\n",
    "        self.CPU.run()\n",
    "        self.Disc.run()\n",
    "        self.Member.run()\n",
    "\n",
    "    def stop(self):\n",
    "        self.CPU.stop()\n",
    "        self.Disc.stop()\n",
    "        self.Member.stop()"
   ]
  },
  {
   "cell_type": "code",
   "execution_count": 3,
   "metadata": {},
   "outputs": [],
   "source": [
    "# 客户端，高层代码\n",
    "c = Computer()\n",
    "c.run()\n",
    "c.stop()"
   ]
  },
  {
   "attachments": {},
   "cell_type": "markdown",
   "metadata": {},
   "source": [
    "# 优点\n",
    "1. 减少了系统相互依赖：可以避免某些部件缺失运行的情况\n",
    "2. 提高了安全性"
   ]
  }
 ],
 "metadata": {
  "kernelspec": {
   "display_name": "base",
   "language": "python",
   "name": "python3"
  },
  "language_info": {
   "codemirror_mode": {
    "name": "ipython",
    "version": 3
   },
   "file_extension": ".py",
   "mimetype": "text/x-python",
   "name": "python",
   "nbconvert_exporter": "python",
   "pygments_lexer": "ipython3",
   "version": "3.8.8"
  },
  "orig_nbformat": 4,
  "vscode": {
   "interpreter": {
    "hash": "608941083e8b91d1db0c21a8f194580bc482385e10e0f0b50fa162534608c5ce"
   }
  }
 },
 "nbformat": 4,
 "nbformat_minor": 2
}

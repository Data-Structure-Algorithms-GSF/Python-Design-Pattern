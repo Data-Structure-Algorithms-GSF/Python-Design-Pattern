{
 "cells": [
  {
   "attachments": {},
   "cell_type": "markdown",
   "metadata": {},
   "source": [
    "# 描述\n",
    "将一个类的接口转换成客户希望的另一个接口，使得原本由于接口不兼容而不能一起工作的那些类可以一起工作\n",
    "\n",
    "# 角色\n",
    "1. 目标接口\n",
    "2. 待适配的类\n",
    "3. 适配器\n",
    "\n",
    "# 实例（对象适配器：组合，适用有多个对象需要适配的地方）："
   ]
  },
  {
   "cell_type": "code",
   "execution_count": 1,
   "metadata": {},
   "outputs": [],
   "source": [
    "from abc import ABCMeta, abstractmethod\n",
    "\n",
    "# 目标接口\n",
    "class Payment(object, metaclass=ABCMeta):\n",
    "    @abstractmethod\n",
    "    def pay(self, money):\n",
    "        pass\n",
    "\n",
    "class Alipay(Payment):\n",
    "    def pay(self, money):\n",
    "        print('支付了%d' % money)"
   ]
  },
  {
   "cell_type": "code",
   "execution_count": 2,
   "metadata": {},
   "outputs": [],
   "source": [
    "# 待适配的类\n",
    "class BankPay():\n",
    "    def cost(self, money):\n",
    "        print('银联支付了%d' % money)\n",
    "\n",
    "# 待适配的类\n",
    "class ApplePay():\n",
    "    def cost(self, money):\n",
    "        print('苹果支付了%d' % money)"
   ]
  },
  {
   "attachments": {},
   "cell_type": "markdown",
   "metadata": {},
   "source": [
    "两者不兼容：一个用pay方法；一个用cost方法"
   ]
  },
  {
   "cell_type": "code",
   "execution_count": 3,
   "metadata": {},
   "outputs": [],
   "source": [
    "# 对象适配器\n",
    "class PaymentAdapter(Payment):\n",
    "    def __init__(self, payment):\n",
    "        self.payment = payment\n",
    "\n",
    "    def pay(self, money):\n",
    "        self.payment.cost(money)"
   ]
  },
  {
   "cell_type": "code",
   "execution_count": 4,
   "metadata": {},
   "outputs": [
    {
     "name": "stdout",
     "output_type": "stream",
     "text": [
      "苹果支付了100\n",
      "银联支付了100\n"
     ]
    }
   ],
   "source": [
    "# 客户端调用\n",
    "p = PaymentAdapter(ApplePay())\n",
    "p.pay(100)\n",
    "p = PaymentAdapter(BankPay())\n",
    "p.pay(100)"
   ]
  },
  {
   "attachments": {},
   "cell_type": "markdown",
   "metadata": {},
   "source": [
    "# 应用场景\n",
    "1. 有多个已经存在地子类，不可能对每一个子类都进行接口适配"
   ]
  }
 ],
 "metadata": {
  "kernelspec": {
   "display_name": "base",
   "language": "python",
   "name": "python3"
  },
  "language_info": {
   "codemirror_mode": {
    "name": "ipython",
    "version": 3
   },
   "file_extension": ".py",
   "mimetype": "text/x-python",
   "name": "python",
   "nbconvert_exporter": "python",
   "pygments_lexer": "ipython3",
   "version": "3.8.8"
  },
  "orig_nbformat": 4,
  "vscode": {
   "interpreter": {
    "hash": "608941083e8b91d1db0c21a8f194580bc482385e10e0f0b50fa162534608c5ce"
   }
  }
 },
 "nbformat": 4,
 "nbformat_minor": 2
}

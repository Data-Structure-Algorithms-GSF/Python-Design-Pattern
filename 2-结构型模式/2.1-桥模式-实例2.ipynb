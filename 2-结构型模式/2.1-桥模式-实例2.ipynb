{
 "cells": [
  {
   "attachments": {},
   "cell_type": "markdown",
   "metadata": {},
   "source": [
    "# 描述\n",
    "将一个事物的两个维度分离，使其都可以独立地变化\n",
    "\n",
    "# 角色\n",
    "1. 抽象\n",
    "2. 细化抽象\n",
    "3. 实现者\n",
    "4. 具体实现者 \n",
    "\n",
    "# 实例："
   ]
  },
  {
   "cell_type": "code",
   "execution_count": 4,
   "metadata": {},
   "outputs": [],
   "source": [
    "from abc import abstractmethod, ABCMeta\n",
    "\n",
    "\n",
    "class AbstractRoad(metaclass=ABCMeta):\n",
    "    car = None\n",
    "\n",
    "\n",
    "# 抽象方法且必须被重写\n",
    "class AbstractCar(metaclass=ABCMeta):\n",
    "    @abstractmethod\n",
    "    def run(self):\n",
    "        raise NotImplementedError\n"
   ]
  },
  {
   "cell_type": "code",
   "execution_count": 5,
   "metadata": {},
   "outputs": [],
   "source": [
    "from abc import ABCMeta, abstractmethod\n",
    "\n",
    "# 抽象\n",
    "\n",
    "# 形状shape维度\n",
    "class Shape(metaclass=ABCMeta):\n",
    "    # 把颜色这一维度初始化在形状上\n",
    "    def __init__(self, color):\n",
    "        self.color = color\n",
    "\n",
    "    @abstractmethod\n",
    "    def draw(self):\n",
    "        pass\n",
    "\n",
    "# 颜色color维度\n",
    "class Color(metaclass=ABCMeta):\n",
    "    @abstractmethod\n",
    "    def paint(self, shape):\n",
    "        pass"
   ]
  },
  {
   "cell_type": "code",
   "execution_count": 6,
   "metadata": {},
   "outputs": [],
   "source": [
    "# 细化抽象：嵌入另一个维度的类，形状shape类\n",
    "\n",
    "class Rectangle(Shape):\n",
    "    # 有Shape类地__init__方法在此实现，需要传入color类\n",
    "  \n",
    "    name = '长方形'\n",
    "\n",
    "    def draw(self):\n",
    "\t    # color类地paint函数需要传入一个shape类参数，把自己传进去\n",
    "        self.color.paint(self)\n",
    "\n",
    "\n",
    "# 如果要扩展shape类，只需要添加新的shape就可以\n",
    "class Circle(Shape):\n",
    "    name = '圆形'\n",
    "\n",
    "    def draw(self):\n",
    "        self.color.paint(self)"
   ]
  },
  {
   "cell_type": "code",
   "execution_count": 7,
   "metadata": {},
   "outputs": [],
   "source": [
    "# 实现者：被嵌入另一个维度的类，颜色color类\n",
    "\n",
    "class Red(Color):\n",
    "    def paint(self, shape):\n",
    "        print('画红色的%s' % shape.name)\n",
    "\n",
    "# 如果要扩展颜色，只需要添加颜色color类\n",
    "class Green(Color):\n",
    "    def paint(self, shape):\n",
    "        print('画绿色的%s' % shape.name)"
   ]
  },
  {
   "cell_type": "code",
   "execution_count": 8,
   "metadata": {},
   "outputs": [
    {
     "name": "stdout",
     "output_type": "stream",
     "text": [
      "画红色的长方形\n",
      "画绿色的圆形\n"
     ]
    }
   ],
   "source": [
    "# 具体实现\n",
    "\n",
    "rectangle = Rectangle(Red())\n",
    "rectangle.draw()\n",
    "circle = Circle(Green())\n",
    "circle.draw()"
   ]
  },
  {
   "attachments": {},
   "cell_type": "markdown",
   "metadata": {},
   "source": [
    "# 应用场景\n",
    "1. 当事物有两个维度上地表现，两个维度都可能扩展时\n",
    "\n",
    "# 优点\n",
    "1. 抽象和实现相分离\n",
    "2. 优秀地扩展能力\n",
    "\n",
    "# 举例：平台窗口开发\n",
    "1. 维度1：窗口\n",
    "   - 单窗口：txt文件\n",
    "   - 多窗口：浏览器\n",
    "2. 维度2：操作系统\n",
    "   - windows操作系统\n",
    "   - Linux操作系统"
   ]
  }
 ],
 "metadata": {
  "kernelspec": {
   "display_name": "base",
   "language": "python",
   "name": "python3"
  },
  "language_info": {
   "codemirror_mode": {
    "name": "ipython",
    "version": 3
   },
   "file_extension": ".py",
   "mimetype": "text/x-python",
   "name": "python",
   "nbconvert_exporter": "python",
   "pygments_lexer": "ipython3",
   "version": "3.8.8"
  },
  "orig_nbformat": 4,
  "vscode": {
   "interpreter": {
    "hash": "608941083e8b91d1db0c21a8f194580bc482385e10e0f0b50fa162534608c5ce"
   }
  }
 },
 "nbformat": 4,
 "nbformat_minor": 2
}

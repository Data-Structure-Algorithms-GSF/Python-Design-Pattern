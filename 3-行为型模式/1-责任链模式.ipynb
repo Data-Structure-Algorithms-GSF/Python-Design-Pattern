{
 "cells": [
  {
   "attachments": {},
   "cell_type": "markdown",
   "metadata": {},
   "source": [
    "# 描述\n",
    "使多个对象都有机会处理请求，从而避免请求的发送者和接收者之间的耦合关系。将这些对象连成一条链，并沿着这条链传递该请求，直到有一个对象处理它为止\n",
    "\n",
    "# 角色\n",
    "1. 抽象处理者\n",
    "2. 具体处理者\n",
    "3. 客户端\n",
    "\n",
    "# 应用场景\n",
    "1. 有多个对象可以处理一个请求，具体由哪个对象来处理，根据条件来判断\n",
    "2. 在不明确接收者的情况下，只用向多个对象中的一个提交请求，就可以沿着责任链，最终确定处理对象\n",
    "\n",
    "# 实例："
   ]
  },
  {
   "cell_type": "code",
   "execution_count": null,
   "metadata": {},
   "outputs": [],
   "source": [
    "from abc import ABCMeta, abstractmethod\n",
    "\n",
    "# 抽象的处理者\n",
    "class Handler(metaclass=ABCMeta):\n",
    "    @abstractmethod\n",
    "    def handle_leave(self, day):\n",
    "        pass"
   ]
  },
  {
   "cell_type": "code",
   "execution_count": null,
   "metadata": {},
   "outputs": [],
   "source": [
    "# 具体的处理者\n",
    "class GeneralManager(Handler):\n",
    "    def handle_leave(self, day):\n",
    "        if day <= 30:\n",
    "            print('总经理准假%d' % day)\n",
    "        else:\n",
    "            print('可以辞职了！')\n",
    "\n",
    "# 具体的处理者\n",
    "class DepartmentManager(Handler):\n",
    "    def __init__(self):\n",
    "        self.next = GeneralManager()\n",
    "\n",
    "    def handle_leave(self, day):\n",
    "        if day <= 7:\n",
    "            print('项目主管准假%d' % day)\n",
    "        else:\n",
    "            print('部门经理职权不足')\n",
    "            self.next.handle_leave(day)\n",
    "\n",
    "# 具体的处理者\n",
    "class ProjectDirector(Handler):\n",
    "    def __init__(self):\n",
    "        self.next = DepartmentManager()\n",
    "\n",
    "    def handle_leave(self, day):\n",
    "        if day <= 3:\n",
    "            print('项目主管准假%d' % day)\n",
    "        else:\n",
    "            print('项目主管职权不足')\n",
    "            self.next.handle_leave(day)"
   ]
  },
  {
   "cell_type": "code",
   "execution_count": null,
   "metadata": {},
   "outputs": [],
   "source": [
    "# 客户端调用\n",
    "\n",
    "day = 20\n",
    "p = ProjectDirector()\n",
    "p.handle_leave(day)"
   ]
  },
  {
   "attachments": {},
   "cell_type": "markdown",
   "metadata": {},
   "source": [
    "# 优点\n",
    "1. 降低耦合度：一个请求进来，无需知道是哪一个对象最终处理的"
   ]
  }
 ],
 "metadata": {
  "kernelspec": {
   "display_name": "base",
   "language": "python",
   "name": "python3"
  },
  "language_info": {
   "codemirror_mode": {
    "name": "ipython",
    "version": 3
   },
   "file_extension": ".py",
   "mimetype": "text/x-python",
   "name": "python",
   "nbconvert_exporter": "python",
   "pygments_lexer": "ipython3",
   "version": "3.8.8"
  },
  "orig_nbformat": 4,
  "vscode": {
   "interpreter": {
    "hash": "608941083e8b91d1db0c21a8f194580bc482385e10e0f0b50fa162534608c5ce"
   }
  }
 },
 "nbformat": 4,
 "nbformat_minor": 2
}

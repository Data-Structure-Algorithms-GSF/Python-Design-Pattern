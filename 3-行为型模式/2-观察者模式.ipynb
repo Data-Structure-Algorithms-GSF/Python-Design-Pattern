{
 "cells": [
  {
   "attachments": {},
   "cell_type": "markdown",
   "metadata": {},
   "source": [
    "# 描述\n",
    "定义对象间的一种一对多的依赖关系，当一个对象的状态发生变化，所有依赖于它的对象都能得到通知并被自动更新。观察者模式又被称为“发布-订阅”模式\n",
    "\n",
    "# 角色\n",
    "1. 抽象观察者-订阅者\n",
    "2. 抽象主题-发布者 \n",
    "3. 具体主题-发布者\n",
    "4. 具体观察者-订阅者\n",
    "\n",
    "\n",
    "# 实例："
   ]
  },
  {
   "cell_type": "code",
   "execution_count": null,
   "metadata": {},
   "outputs": [],
   "source": [
    "from abc import ABCMeta, abstractmethod\n",
    "\n",
    "# 抽象观察者：订阅者\n",
    "class Observer(metaclass=ABCMeta):\n",
    "    @abstractmethod\n",
    "    def update(self, notice):\n",
    "        \"\"\"\n",
    "        :param notice: Notice类的对象\n",
    "        :return:\n",
    "        \"\"\"\n",
    "        pass"
   ]
  },
  {
   "cell_type": "code",
   "execution_count": null,
   "metadata": {},
   "outputs": [],
   "source": [
    "# 抽象的主题：发布者\n",
    "# 可以是接口，子类不需要实现，所以不需要定义抽象方法！\n",
    "\n",
    "class Notice:\n",
    "    def __init__(self):\n",
    "        self.observers = []\n",
    "\n",
    "    def attach(self, obs):\n",
    "        self.observers.append(obs)\n",
    "\n",
    "    def detach(self, obs):\n",
    "        self.observers.remove(obs)\n",
    "\n",
    "    def notify(self):\n",
    "        \"\"\"\n",
    "        推送\n",
    "        :return:\n",
    "        \"\"\"\n",
    "        for obs in self.observers:\n",
    "            obs.update(self)"
   ]
  },
  {
   "cell_type": "code",
   "execution_count": null,
   "metadata": {},
   "outputs": [],
   "source": [
    "# 具体主题：发布者\n",
    "\n",
    "class StaffNotice(Notice):\n",
    "    def __init__(self, company_info):\n",
    "        # 调用父类对象声明observers属性\n",
    "        super().__init__()\n",
    "        self.__company_info = company_info\n",
    "\n",
    "    # 将company_info()方法可以像调用属性一样使用:self.company_info\n",
    "    @property\n",
    "    def company_info(self):\n",
    "        return self.__company_info\n",
    "\n",
    "    @company_info.setter\n",
    "    def company_info(self, info):\n",
    "        self.__company_info = info\n",
    "        self.notify()"
   ]
  },
  {
   "attachments": {},
   "cell_type": "markdown",
   "metadata": {},
   "source": [
    "1. 读取属性的时候,用的@property装饰器下的方法:  print(obj.company_info)\n",
    "2. 写入属性的时候,用的@company_info.setter装饰器下的方法:  obj.company_info = '11111'"
   ]
  },
  {
   "cell_type": "code",
   "execution_count": null,
   "metadata": {},
   "outputs": [],
   "source": [
    "# 具体观察者:订阅者\n",
    "\n",
    "class Staff(Observer):\n",
    "    def __init__(self):\n",
    "\t# 维护自己的通知信息\n",
    "        self.company_info = None\n",
    "\n",
    "    def update(self, notice):\n",
    "        self.company_info = notice.company_info"
   ]
  },
  {
   "cell_type": "code",
   "execution_count": null,
   "metadata": {},
   "outputs": [],
   "source": [
    "# 客户端实现\n",
    "\n",
    "# 具体主题\n",
    "staff_notice = StaffNotice('初始化公司信息')\n",
    "# 具体订阅者\n",
    "staff1 = Staff()\n",
    "staff2 = Staff()\n",
    "# 绑定\n",
    "staff_notice.attach(staff1)\n",
    "staff_notice.attach(staff2)\n",
    "# None信息, 虽然绑定了,但是还没发布新的信息\n",
    "print(staff1.company_info)\n",
    "print(staff2.company_info)\n",
    "# 发布新的信息,自动推给所有订阅者,无需一一更新订阅者内容\n",
    "staff_notice.company_info = '假期放假通知！'\n",
    "print(staff1.company_info)\n",
    "print(staff2.company_info)\n",
    "# 解除绑定\n",
    "staff_notice.detach(staff2)\n",
    "# 再次发布通知\n",
    "staff_notice.company_info = '明天开会！'\n",
    "print(staff1.company_info)\n",
    "print(staff2.company_info)"
   ]
  },
  {
   "attachments": {},
   "cell_type": "markdown",
   "metadata": {},
   "source": [
    "# 应用场景\n",
    "1. 当一个抽象模型有两方面,其中一个方面依赖于另一个方面.将两者封装在独立对象中以使他们可以各自独立的改变和复用\n",
    "2. 当一个对象的改变需要同时该彼岸其他对象,而不知道具体有多少对象待改变\n",
    "3. 当一个对象必须通知其他对象,但是又不能假定一个接收通知的对象的时候\n",
    "\n",
    "# 优点\n",
    "1. 主题和订阅者之间的抽象耦合最小\n",
    "2. 支持广播通信"
   ]
  }
 ],
 "metadata": {
  "kernelspec": {
   "display_name": "base",
   "language": "python",
   "name": "python3"
  },
  "language_info": {
   "codemirror_mode": {
    "name": "ipython",
    "version": 3
   },
   "file_extension": ".py",
   "mimetype": "text/x-python",
   "name": "python",
   "nbconvert_exporter": "python",
   "pygments_lexer": "ipython3",
   "version": "3.8.8"
  },
  "orig_nbformat": 4,
  "vscode": {
   "interpreter": {
    "hash": "608941083e8b91d1db0c21a8f194580bc482385e10e0f0b50fa162534608c5ce"
   }
  }
 },
 "nbformat": 4,
 "nbformat_minor": 2
}

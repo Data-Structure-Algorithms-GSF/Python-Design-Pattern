{
 "cells": [
  {
   "attachments": {},
   "cell_type": "markdown",
   "metadata": {},
   "source": [
    "# 描述\n",
    "定义一个操作中的算法的骨架,将一些步骤延迟到子类中.模板方法使得子类可以不改变一个算法的结构即可重定义该算法的某些特定步骤\n",
    "\n",
    "# 角色\n",
    "1. 抽象类:定义抽象的原子操作;实现一个模板方法作为算法的骨架\n",
    "2. 具体类:实现原子操作\n",
    "\n",
    "# 实例："
   ]
  },
  {
   "cell_type": "code",
   "execution_count": null,
   "metadata": {},
   "outputs": [],
   "source": [
    "from abc import ABCMeta, abstractmethod\n",
    "from time import sleep\n",
    "\n",
    "# 抽象类\n",
    "class Window(metaclass=ABCMeta):\n",
    "    @abstractmethod\n",
    "    def start(self):  # 原子操作/钩子操作\n",
    "        pass\n",
    "\n",
    "    @abstractmethod\n",
    "    def repaint(self):  # 原子操作/钩子操作\n",
    "        pass\n",
    "\n",
    "    @abstractmethod\n",
    "    def stop(self):  # 原子操作/钩子操作\n",
    "        pass\n",
    "\n",
    "    def run(self):\n",
    "        \"\"\"\n",
    "        模板方法(具体方法)，这个大逻辑就先不写了\n",
    "        :return:\n",
    "        \"\"\"\n",
    "        self.start()\n",
    "        while True:\n",
    "            try:\n",
    "                self.repaint()\n",
    "                sleep(1)\n",
    "            except KeyboardInterrupt:\n",
    "                break\n",
    "        self.stop()"
   ]
  },
  {
   "cell_type": "code",
   "execution_count": null,
   "metadata": {},
   "outputs": [],
   "source": [
    "# 具体类\n",
    "class MyWindow(Window):\n",
    "    def __init__(self, msg):\n",
    "        self.msg = msg\n",
    "\n",
    "    def start(self):\n",
    "        print('窗口开始运行！')\n",
    "\n",
    "    def stop(self):\n",
    "        print('窗口停止运行！')\n",
    "\n",
    "    def repaint(self):\n",
    "        print(self.msg)"
   ]
  },
  {
   "cell_type": "code",
   "execution_count": null,
   "metadata": {},
   "outputs": [],
   "source": [
    "# 客户端，高层代码\n",
    "\n",
    "MyWindow(\"Hello...\").run()"
   ]
  },
  {
   "attachments": {},
   "cell_type": "markdown",
   "metadata": {},
   "source": [
    "# 使用场景\n",
    "1. 一次性实现一个算法的不变部分\n",
    "2. 各个子类的公共行为应该被提取出来并集中到一个公共父类中以避免代码重复\n",
    "3. 控制子类扩展"
   ]
  }
 ],
 "metadata": {
  "kernelspec": {
   "display_name": "base",
   "language": "python",
   "name": "python3"
  },
  "language_info": {
   "codemirror_mode": {
    "name": "ipython",
    "version": 3
   },
   "file_extension": ".py",
   "mimetype": "text/x-python",
   "name": "python",
   "nbconvert_exporter": "python",
   "pygments_lexer": "ipython3",
   "version": "3.8.8"
  },
  "orig_nbformat": 4,
  "vscode": {
   "interpreter": {
    "hash": "608941083e8b91d1db0c21a8f194580bc482385e10e0f0b50fa162534608c5ce"
   }
  }
 },
 "nbformat": 4,
 "nbformat_minor": 2
}

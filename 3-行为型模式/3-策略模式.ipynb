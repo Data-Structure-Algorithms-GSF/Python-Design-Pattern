{
 "cells": [
  {
   "attachments": {},
   "cell_type": "markdown",
   "metadata": {},
   "source": [
    "# 描述\n",
    "定义一系列的算法,把它们一个个封装起来,并且使他们可相互替代.本模式使得算法可独立于使用它的客户而变化\n",
    "\n",
    "# 角色\n",
    "1. 抽象策略\n",
    "2. 具体策略\n",
    "3. 上下文\n",
    "\n",
    "# 举例\n",
    "1. 滴滴接受订单算法:\n",
    "   - 快速算法:接单快,但是距离不是最优\n",
    "   - 慢速算法:接单满,但是距离是最优\n",
    "2. 需求:\n",
    "   - 高峰期需要快速算法,保量\n",
    "   - 低峰期需要慢速算法,保质\n",
    "\n",
    "# 实例："
   ]
  },
  {
   "cell_type": "code",
   "execution_count": 1,
   "metadata": {},
   "outputs": [],
   "source": [
    "from abc import abstractmethod, ABCMeta\n",
    "from datetime import datetime\n",
    "\n",
    "# 抽象策略\n",
    "class Strategy(metaclass=ABCMeta):\n",
    "    @abstractmethod\n",
    "    def execute(self, data):\n",
    "        pass"
   ]
  },
  {
   "cell_type": "code",
   "execution_count": 2,
   "metadata": {},
   "outputs": [],
   "source": [
    "# 具体策略\n",
    "class FastStrategy(Strategy):\n",
    "    def execute(self, data):\n",
    "        print(\"使用较快的策略处理%s\" % data)\n",
    "\n",
    "# 具体策略\n",
    "class SlowStrategy(Strategy):\n",
    "    def execute(self, data):\n",
    "        print(\"使用较慢的策略处理%s\" % data)"
   ]
  },
  {
   "cell_type": "code",
   "execution_count": 3,
   "metadata": {},
   "outputs": [],
   "source": [
    "# 上下文\n",
    "class Context:\n",
    "    def __init__(self, strategy, data):\n",
    "        self.data = data\n",
    "        self.strategy = strategy\n",
    "        # 可以定义用户不知道的东西\n",
    "        self.date = datetime.now()\n",
    "\n",
    "    def set_strategy(self, strategy):\n",
    "        self.strategy = strategy\n",
    "\n",
    "    def do_strategy(self):\n",
    "        self.strategy.execute(self.data)"
   ]
  },
  {
   "cell_type": "code",
   "execution_count": 4,
   "metadata": {},
   "outputs": [
    {
     "name": "stdout",
     "output_type": "stream",
     "text": [
      "使用较快的策略处理Hello!\n",
      "使用较慢的策略处理Hello!\n"
     ]
    }
   ],
   "source": [
    "# 客户端实现\n",
    "\n",
    "data = \"Hello!\"\n",
    "# 使用较快的策略处理\n",
    "fast_strategy = FastStrategy()\n",
    "context = Context(fast_strategy, data)\n",
    "context.do_strategy()\n",
    "# 使用较慢的策略处理\n",
    "slow_strategy = SlowStrategy()\n",
    "context = Context(slow_strategy, data)\n",
    "context.do_strategy()"
   ]
  },
  {
   "attachments": {},
   "cell_type": "markdown",
   "metadata": {},
   "source": [
    "# 优点\n",
    "1. 定义了一些可重用的算法和行为;消除了一些条件语句;可以提供相同行为的不同实现\n",
    "\n",
    "# 缺点\n",
    "1. 客户必须了解不同的策略"
   ]
  }
 ],
 "metadata": {
  "kernelspec": {
   "display_name": "base",
   "language": "python",
   "name": "python3"
  },
  "language_info": {
   "codemirror_mode": {
    "name": "ipython",
    "version": 3
   },
   "file_extension": ".py",
   "mimetype": "text/x-python",
   "name": "python",
   "nbconvert_exporter": "python",
   "pygments_lexer": "ipython3",
   "version": "3.8.8"
  },
  "orig_nbformat": 4,
  "vscode": {
   "interpreter": {
    "hash": "608941083e8b91d1db0c21a8f194580bc482385e10e0f0b50fa162534608c5ce"
   }
  }
 },
 "nbformat": 4,
 "nbformat_minor": 2
}
